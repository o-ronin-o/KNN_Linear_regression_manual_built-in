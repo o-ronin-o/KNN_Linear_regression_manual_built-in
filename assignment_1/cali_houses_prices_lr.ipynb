{
 "cells": [
  {
   "cell_type": "markdown",
   "id": "eb54a083",
   "metadata": {},
   "source": [
    "## 📈 Regression Task — Linear, Ridge, and Lasso Regression\n",
    "\n",
    "This section focuses on the **California Housing Prices** dataset to predict the **Median House Value** based on various demographic and geographic features.\n",
    "\n",
    "We will explore **three regression models**:\n",
    "\n",
    "1. **Linear Regression (Manual Implementation)**  \n",
    "   - Compute the optimal weights using the **Normal Equation**:  \n",
    "     \\( w = (X^T X)^{-1} X^T y \\)  \n",
    "   - Implement **Gradient Descent** as an alternative optimization method.\n",
    "\n",
    "2. **Regularized Regression Models**  \n",
    "   - **Ridge Regression (L2)**: adds a penalty on large weights to reduce overfitting.  \n",
    "   - **Lasso Regression (L1)**: encourages sparsity by shrinking some weights to zero.\n",
    "\n",
    "3. **Scikit-Learn Implementations**  \n",
    "   - Reapply the above models using `LinearRegression`, `Ridge`, and `Lasso` from `sklearn.linear_model`.\n",
    "\n",
    "We will analyze model performance using:\n",
    "- **Mean Squared Error (MSE)**\n",
    "- **Mean Absolute Error (MAE)**\n",
    "\n",
    "Finally, we will plot **Validation Error vs. Regularization Parameter (λ)** and discuss the effects of regularization on bias-variance tradeoff.\n"
   ]
  },
  {
   "cell_type": "markdown",
   "id": "82a749a0",
   "metadata": {},
   "source": [
    "Importing necessary libs\n"
   ]
  },
  {
   "cell_type": "code",
   "execution_count": 22,
   "id": "dc54d822",
   "metadata": {},
   "outputs": [],
   "source": [
    "import numpy as np\n",
    "import pandas as pd\n",
    "from sklearn.model_selection import train_test_split\n",
    "from sklearn.preprocessing import StandardScaler\n",
    "from sklearn.linear_model import LinearRegression, Ridge, LassoCV\n",
    "from sklearn.metrics import mean_squared_error, mean_absolute_error\n",
    "import matplotlib.pyplot as plt"
   ]
  },
  {
   "cell_type": "markdown",
   "id": "690a69de",
   "metadata": {},
   "source": [
    "Loading Data"
   ]
  },
  {
   "cell_type": "code",
   "execution_count": 23,
   "id": "212b9742",
   "metadata": {},
   "outputs": [
    {
     "name": "stdout",
     "output_type": "stream",
     "text": [
      "Data loaded successfully.\n",
      "Dataset split: Train=14448, Validation=3096, Test=3096\n"
     ]
    }
   ],
   "source": [
    "try:\n",
    "    #Load data\n",
    "    data = pd.read_csv(\"California_Houses.csv\")\n",
    "    #target (y) and features (x)\n",
    "    y = data[\"Median_House_Value\"]\n",
    "    x = data.drop([\"Median_House_Value\"], axis=1)\n",
    "    print(\"Data loaded successfully.\")\n",
    "except FileNotFoundError:\n",
    "    print(\"Error: 'California_Houses.csv' not found. Please check file path.\")\n",
    "    exit(1)\n",
    "\n",
    "# Spliting data\n",
    "random_state = 47\n",
    "x_train, x_temp, y_train, y_temp = train_test_split(x, y, test_size=0.3, random_state=random_state)\n",
    "x_val, x_test, y_val, y_test = train_test_split(x_temp, y_temp, test_size=0.5, random_state=random_state)\n",
    "\n",
    "print(f\"Dataset split: Train={len(x_train)}, Validation={len(x_val)}, Test={len(x_test)}\")"
   ]
  },
  {
   "cell_type": "markdown",
   "id": "04383a45",
   "metadata": {},
   "source": [
    "Data Preprocessing"
   ]
  },
  {
   "cell_type": "code",
   "execution_count": 24,
   "id": "379e66eb",
   "metadata": {},
   "outputs": [],
   "source": [
    "scaler = StandardScaler()\n",
    "scaler.fit(x_train)\n",
    "\n",
    "# Apply scaling to all sets\n",
    "x_train_scaled = scaler.transform(x_train)\n",
    "x_val_scaled = scaler.transform(x_val)\n",
    "x_test_scaled = scaler.transform(x_test)\n",
    "\n",
    "# Adding bias column\n",
    "x_train_bias = np.c_[np.ones((len(x_train_scaled), 1)), x_train_scaled]\n",
    "x_val_bias = np.c_[np.ones((len(x_val_scaled), 1)), x_val_scaled]\n",
    "x_test_bias = np.c_[np.ones((len(x_test_scaled), 1)), x_test_scaled]\n",
    "\n",
    "# Converting target variables to numpy arrays\n",
    "y_train = y_train.values\n",
    "y_val = y_val.values\n",
    "y_test = y_test.values\n",
    "\n",
    "results = {}"
   ]
  },
  {
   "cell_type": "markdown",
   "id": "9d27fdcd",
   "metadata": {},
   "source": [
    "Manual Gradiant Descent implementation\n"
   ]
  },
  {
   "cell_type": "code",
   "execution_count": 25,
   "id": "82f8470f",
   "metadata": {},
   "outputs": [],
   "source": [
    "def gradient_descent(X, y, learning_rate, n_iterations, lambda_reg=0.0, reg_type='none'):\n",
    "    m, n = X.shape\n",
    "    # Initialize weights\n",
    "    w = np.random.randn(n)\n",
    "    # Exclude bias (w[0]) from regularization\n",
    "    w[0] = 0.0\n",
    "    cost_history = []\n",
    "\n",
    "    for i in range(n_iterations):\n",
    "        predictions = X @ w\n",
    "        errors = predictions - y\n",
    "\n",
    "        # Base gradient for Linear Regression\n",
    "        gradient = (2 / m) * (X.T @ errors)\n",
    "\n",
    "        # Apply Ridge Regularization penalty to the gradient\n",
    "        if reg_type == 'ridge':\n",
    "            w_no_bias = w.copy()\n",
    "            w_no_bias[0] = 0\n",
    "            gradient += (2 * lambda_reg / m) * w_no_bias\n",
    "\n",
    "        # Update weights\n",
    "        w = w - (learning_rate * gradient)\n",
    "\n",
    "        # Calculate total cost\n",
    "        base_cost = (1 / m) * np.sum(errors ** 2)\n",
    "        if reg_type == 'ridge':\n",
    "            reg_penalty = lambda_reg * np.sum(w[1:] ** 2) / m\n",
    "            cost = base_cost + reg_penalty\n",
    "        else:\n",
    "            cost = base_cost\n",
    "\n",
    "        cost_history.append(cost)\n",
    "\n",
    "    return w, cost_history\n"
   ]
  },
  {
   "cell_type": "markdown",
   "id": "ec96ce4c",
   "metadata": {},
   "source": [
    "Helper funtion to calculate Mse and Mae\n"
   ]
  },
  {
   "cell_type": "code",
   "execution_count": 26,
   "id": "8f8af1de",
   "metadata": {},
   "outputs": [],
   "source": [
    "def calculate_metrics(y_true, y_pred):\n",
    "    # Calculates Mean Squared Error (MSE) and Mean Absolute Error (MAE).\n",
    "    mse = np.mean((y_true - y_pred) ** 2)\n",
    "    mae = np.mean(np.abs(y_true - y_pred))\n",
    "    return mse, mae"
   ]
  },
  {
   "cell_type": "markdown",
   "id": "28f9e6f1",
   "metadata": {},
   "source": [
    "Manual Linear Regression (Normal Equation) implementation"
   ]
  },
  {
   "cell_type": "code",
   "execution_count": 27,
   "id": "8e5adcab",
   "metadata": {},
   "outputs": [
    {
     "name": "stdout",
     "output_type": "stream",
     "text": [
      "Normal Eq Model: MSE=$4646.01M, MAE=$49934.57\n"
     ]
    }
   ],
   "source": [
    "X_train, Y_train = x_train_bias, y_train\n",
    "\n",
    "try:\n",
    "    # Calculate weights using Normal Equation: w = (X^T X)^-1 X^T y\n",
    "    XT = X_train.T\n",
    "    w_normalEq = np.linalg.inv(XT @ X_train) @ XT @ Y_train\n",
    "\n",
    "    # Evaluate on the Test Set\n",
    "    y_pred_ne = x_test_bias @ w_normalEq\n",
    "    mse_ne, mae_ne = calculate_metrics(y_test, y_pred_ne)\n",
    "    results['Linear_NormalEq'] = {'MSE': mse_ne, 'MAE': mae_ne, 'Weights': w_normalEq}\n",
    "\n",
    "    print(f\"Normal Eq Model: MSE=${mse_ne/1e6:.2f}M, MAE=${mae_ne:.2f}\")\n",
    "\n",
    "except np.linalg.LinAlgError:\n",
    "    print(\"Error: The matrix (X^T X) is singular and cannot be inverted.\")\n",
    "    exit(1)\n"
   ]
  },
  {
   "cell_type": "markdown",
   "id": "7c39ae4a",
   "metadata": {},
   "source": [
    "Manual Linear Regression (Gradient Descent) implementation"
   ]
  },
  {
   "cell_type": "code",
   "execution_count": 28,
   "id": "fa5efbf0",
   "metadata": {},
   "outputs": [
    {
     "name": "stdout",
     "output_type": "stream",
     "text": [
      "GD Model: Final Cost (MSE)=4633.95M\n",
      "GD Model: MSE=$4664.58M, MAE=$50200.96\n"
     ]
    }
   ],
   "source": [
    "learning_rate = 0.01\n",
    "n_iterations = 10000\n",
    "\n",
    "# Run Gradient Descent for simple Linear Regression\n",
    "w_gd_linear, cost_history_gd_linear = gradient_descent(X_train, Y_train, learning_rate, n_iterations, reg_type='none')\n",
    "\n",
    "# Evaluate on the Test Set\n",
    "y_pred_gd_linear = x_test_bias @ w_gd_linear\n",
    "mse_gd_linear, mae_gd_linear = calculate_metrics(y_test, y_pred_gd_linear)\n",
    "results['Linear_GD'] = {'MSE': mse_gd_linear, 'MAE': mae_gd_linear, 'Weights': w_gd_linear}\n",
    "\n",
    "print(f\"GD Model: Final Cost (MSE)={cost_history_gd_linear[-1]/1e6:.2f}M\")\n",
    "print(f\"GD Model: MSE=${mse_gd_linear/1e6:.2f}M, MAE=${mae_gd_linear:.2f}\")\n"
   ]
  },
  {
   "cell_type": "markdown",
   "id": "b90362ea",
   "metadata": {},
   "source": [
    "GD Cost Function History"
   ]
  },
  {
   "cell_type": "code",
   "execution_count": 29,
   "id": "8590d8db",
   "metadata": {},
   "outputs": [
    {
     "data": {
      "image/png": "[encoded data removed]",
      "text/plain": [
       "<Figure size 800x400 with 1 Axes>"
      ]
     },
     "metadata": {},
     "output_type": "display_data"
    }
   ],
   "source": [
    "plt.figure(figsize=(8, 4))\n",
    "plt.plot(range(n_iterations), cost_history_gd_linear)\n",
    "plt.title('GD Cost Function History (Linear Regression)')\n",
    "plt.xlabel('Iterations')\n",
    "plt.ylabel('Cost (MSE)')\n",
    "plt.grid(True)\n",
    "plt.show()\n"
   ]
  },
  {
   "cell_type": "markdown",
   "id": "6a204cf8",
   "metadata": {},
   "source": [
    "Manual Ridge Tuning (Gradient Descent) implementation\n"
   ]
  },
  {
   "cell_type": "code",
   "execution_count": 30,
   "id": "b06fe781",
   "metadata": {},
   "outputs": [
    {
     "name": "stdout",
     "output_type": "stream",
     "text": [
      "Best Ridge $\\lambda$: 754.31201 (Val MSE: $5157.31M)\n",
      "Ridge (Manual): MSE=$4817.40M, MAE=$51351.86\n"
     ]
    }
   ],
   "source": [
    "# Define lambda range for tuning\n",
    "# Using fewer iterations/lambdas for tuning to speed it up\n",
    "tuning_iterations = 1000\n",
    "lambdas = np.logspace(-3, 3, 50)\n",
    "ridge_val_errors = []\n",
    "best_lambda_ridge = 0\n",
    "min_val_error_ridge = float('inf')\n",
    "\n",
    "# Loop through all lambda values to find the best one using the Validation Set\n",
    "for lambda_reg in lambdas:\n",
    "    # Tune Ridge\n",
    "    w_ridge, _ = gradient_descent(X_train, Y_train, learning_rate, tuning_iterations, lambda_reg=lambda_reg, reg_type='ridge')\n",
    "    y_pred_val_ridge = x_val_bias @ w_ridge\n",
    "    mse_val_ridge, _ = calculate_metrics(y_val, y_pred_val_ridge)\n",
    "    ridge_val_errors.append(mse_val_ridge)\n",
    "\n",
    "    if mse_val_ridge < min_val_error_ridge:\n",
    "        min_val_error_ridge = mse_val_ridge\n",
    "        best_lambda_ridge = lambda_reg\n",
    "\n",
    "\n",
    "print(rf\"Best Ridge $\\lambda$: {best_lambda_ridge:.5f} (Val MSE: ${min_val_error_ridge/1e6:.2f}M)\")\n",
    "\n",
    "# Train and Evaluate final Manual Regularized Models on Test Set\n",
    "w_manual_ridge, _ = gradient_descent(X_train, Y_train, learning_rate, n_iterations, lambda_reg=best_lambda_ridge, reg_type='ridge')\n",
    "y_pred_manual_ridge = x_test_bias @ w_manual_ridge\n",
    "mse_manual_ridge, mae_manual_ridge = calculate_metrics(y_test, y_pred_manual_ridge)\n",
    "results['Ridge_Manual'] = {'MSE': mse_manual_ridge, 'MAE': mae_manual_ridge, 'Weights': w_manual_ridge}\n",
    "\n",
    "print(f\"Ridge (Manual): MSE=${mse_manual_ridge/1e6:.2f}M, MAE=${mae_manual_ridge:.2f}\")"
   ]
  },
  {
   "cell_type": "markdown",
   "id": "68bc010b",
   "metadata": {},
   "source": [
    "Plot Validation Error vs. Regularization Parameter"
   ]
  },
  {
   "cell_type": "code",
   "execution_count": 31,
   "id": "f6b54544",
   "metadata": {},
   "outputs": [
    {
     "data": {
      "image/png": "[encoded data removed]",
      "text/plain": [
       "<Figure size 1000x500 with 1 Axes>"
      ]
     },
     "metadata": {},
     "output_type": "display_data"
    }
   ],
   "source": [
    "plt.figure(figsize=(10, 5))\n",
    "plt.plot(lambdas, ridge_val_errors, label='Ridge Validation Error')\n",
    "plt.axvline(best_lambda_ridge, color='red', linestyle='--', label=rf'Best Ridge $\\lambda$={best_lambda_ridge:.5f}')\n",
    "plt.xscale('log')\n",
    "plt.title(r'Validation Error vs. Regularization Parameter $\\lambda$')\n",
    "plt.xlabel(r'Regularization Parameter $\\lambda$ (log scale)')\n",
    "plt.ylabel('MSE on Validation Set')\n",
    "plt.legend()\n",
    "plt.grid(True)\n",
    "plt.show()"
   ]
  },
  {
   "cell_type": "markdown",
   "id": "6ccf62e6",
   "metadata": {},
   "source": [
    "Builtin Scikit-Learn Implementation"
   ]
  },
  {
   "cell_type": "code",
   "execution_count": null,
   "id": "373f51ef",
   "metadata": {},
   "outputs": [
    {
     "name": "stdout",
     "output_type": "stream",
     "text": [
      "\n",
      "--- 4. Scikit-learn Linear Regression ---\n",
      "SKLearn Linear: MSE=$4646.01M, MAE=$49934.57\n",
      "\n",
      "--- 5. Scikit-learn Ridge Regression ---\n",
      "SKLearn Ridge (alpha=754.31201): MSE=$4817.40M, MAE=$51351.86\n",
      "\n",
      "--- 6. Scikit-learn Lasso Regression ---\n",
      "SKLearn Lasso (alpha=0.79248): MSE=$4646.10M, MAE=$49935.80\n"
     ]
    }
   ],
   "source": [
    "# Use scaled data WITHOUT manually added bias\n",
    "X_train_sk, Y_train_sk = x_train_scaled, y_train\n",
    "X_test_sk = x_test_scaled\n",
    "\n",
    "print(\"\\n--- 4. Scikit-learn Linear Regression ---\")\n",
    "sk_linear = LinearRegression()\n",
    "sk_linear.fit(X_train_sk, Y_train_sk)\n",
    "y_pred_sk_linear = sk_linear.predict(X_test_sk)\n",
    "mse_sk_linear, mae_sk_linear = calculate_metrics(y_test, y_pred_sk_linear)\n",
    "results['Linear_SKLearn'] = {'MSE': mse_sk_linear, 'MAE': mae_sk_linear}\n",
    "print(f\"SKLearn Linear: MSE=${mse_sk_linear/1e6:.2f}M, MAE=${mae_sk_linear:.2f}\")\n",
    "\n",
    "print(\"\\n--- 5. Scikit-learn Ridge Regression ---\")\n",
    "sk_ridge = Ridge(alpha=best_lambda_ridge)\n",
    "sk_ridge.fit(X_train_sk, Y_train_sk)\n",
    "y_pred_sk_ridge = sk_ridge.predict(X_test_sk)\n",
    "mse_sk_ridge, mae_sk_ridge = calculate_metrics(y_test, y_pred_sk_ridge)\n",
    "results['Ridge_SKLearn'] = {'MSE': mse_sk_ridge, 'MAE': mae_sk_ridge}\n",
    "print(f\"SKLearn Ridge (alpha={best_lambda_ridge:.5f}): MSE=${mse_sk_ridge/1e6:.2f}M, MAE=${mae_sk_ridge:.2f}\")\n",
    "\n",
    "print(\"\\n--- 6. Scikit-learn Lasso Regression ---\")\n",
    "lasso_alphas = np.logspace(-6, 2, 100)\n",
    "\n",
    "# 2. Create and fit the LassoCV model to find the best alpha\n",
    "sk_lasso_cv = LassoCV(alphas=lasso_alphas, max_iter=20000, cv=5)\n",
    "sk_lasso_cv.fit(X_train_sk, Y_train_sk)\n",
    "\n",
    "# 3. Get the best alpha that LassoCV found\n",
    "best_lambda_lasso_sklearn = sk_lasso_cv.alpha_\n",
    "\n",
    "y_pred_sk_lasso = sk_lasso_cv.predict(X_test_sk)\n",
    "\n",
    "# 5. Calculate metrics\n",
    "mse_sk_lasso, mae_sk_lasso = calculate_metrics(y_test, y_pred_sk_lasso)\n",
    "results['Lasso_SKLearn'] = {'MSE': mse_sk_lasso, 'MAE': mae_sk_lasso}\n",
    "print(f\"SKLearn Lasso (alpha={best_lambda_lasso_sklearn:.5f}): MSE=${mse_sk_lasso/1e6:.2f}M, MAE=${mae_sk_lasso:.2f}\")"
   ]
  },
  {
   "cell_type": "markdown",
   "id": "4372999b",
   "metadata": {},
   "source": [
    "Final Reporting and Analysis"
   ]
  },
  {
   "cell_type": "code",
   "execution_count": 33,
   "id": "c8dd005b",
   "metadata": {},
   "outputs": [
    {
     "name": "stdout",
     "output_type": "stream",
     "text": [
      "\n",
      "==================================================\n",
      "             FINAL MODEL PERFORMANCE REPORT\n",
      "==================================================\n",
      "| Model   | Implementation   |    MSE (Test) |   MAE (Test) |\n",
      "|:--------|:-----------------|--------------:|-------------:|\n",
      "| Linear  | NormalEq         | 4646010387.57 |     49934.57 |\n",
      "| Linear  | GD               | 4664575189.17 |     50200.96 |\n",
      "| Ridge   | Manual           | 4817399148.16 |     51351.86 |\n",
      "| Linear  | SKLearn          | 4646010387.57 |     49934.57 |\n",
      "| Ridge   | SKLearn          | 4817399065.58 |     51351.86 |\n",
      "| Lasso   | SKLearn          | 4646102522.05 |     49935.80 |\n",
      "\n",
      "==================================================\n"
     ]
    }
   ],
   "source": [
    "print(\"\\n\" + \"=\" * 50)\n",
    "print(\"             FINAL MODEL PERFORMANCE REPORT\")\n",
    "print(\"=\" * 50)\n",
    "\n",
    "report_data = {\n",
    "    'Model': [], 'Implementation': [], 'MSE (Test)': [], 'MAE (Test)': []\n",
    "}\n",
    "\n",
    "for key, metrics in results.items():\n",
    "    model_name, impl = key.split('_')\n",
    "    report_data['Model'].append(model_name)\n",
    "    report_data['Implementation'].append(impl)\n",
    "    report_data['MSE (Test)'].append(metrics['MSE'])\n",
    "    report_data['MAE (Test)'].append(metrics['MAE'])\n",
    "\n",
    "final_report = pd.DataFrame(report_data)\n",
    "# Print final report table in markdown format\n",
    "print(final_report.to_markdown(index=False, floatfmt=\".2f\"))\n",
    "\n",
    "print(\"\\n\" + \"=\" * 50)\n"
   ]
  },
  {
   "cell_type": "markdown",
   "id": "bcf2cc08",
   "metadata": {},
   "source": [
    "## Final Comments and Comparison\n",
    "\n",
    "### Comparison of Manual vs. Scikit-learn\n",
    "The Manual implementations of Linear and Ridge regression yielded MSE and MAE values highly consistent\n",
    "with their optimized Scikit-learn counterparts. This validates the correctness of the custom Gradient Descent and Normal Equation implementation.\n",
    "\n",
    "### Comparison of Models (Linear vs. Ridge vs. Lasso)\n",
    "**Linear Regression (Baseline):** MSE = $4646.01M \n",
    "\n",
    "**Ridge Regression (L2):** MSE = $4817.40M\n",
    "\n",
    "**Lasso Regression (L1):** MSE = $4720.28M\n",
    "\n",
    "...\n",
    "\n",
    "Conclusion on Regularization:\n",
    "The Linear Regression model performed best. This suggests the baseline model was already a strong fit,\n",
    "and overfitting was not a significant issue on this dataset."
   ]
  }
 ],
 "metadata": {
  "kernelspec": {
   "display_name": ".venv",
   "language": "python",
   "name": "python3"
  },
  "language_info": {
   "codemirror_mode": {
    "name": "ipython",
    "version": 3
   },
   "file_extension": ".py",
   "mimetype": "text/x-python",
   "name": "python",
   "nbconvert_exporter": "python",
   "pygments_lexer": "ipython3",
   "version": "3.12.6"
  }
 },
 "nbformat": 4,
 "nbformat_minor": 5
}
